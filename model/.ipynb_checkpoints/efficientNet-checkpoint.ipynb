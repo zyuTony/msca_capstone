{
 "cells": [
  {
   "cell_type": "code",
   "execution_count": 59,
   "id": "0a88560a",
   "metadata": {},
   "outputs": [],
   "source": [
    "import tensorflow as tf\n",
    "from tensorflow.keras.applications import * #Efficient Net included here\n",
    "from tensorflow.keras import models\n",
    "from tensorflow.keras import layers\n",
    "from keras.preprocessing.image import ImageDataGenerator\n",
    "import os\n",
    "import shutil\n",
    "import pandas as pd\n",
    "from sklearn import model_selection\n",
    "from tqdm import tqdm\n",
    "from tensorflow.keras import optimizers\n",
    "import tensorflow as tf\n",
    "import numpy as np"
   ]
  },
  {
   "cell_type": "code",
   "execution_count": 48,
   "id": "2eea4e14",
   "metadata": {},
   "outputs": [],
   "source": [
    "pd.set_option('display.max_rows', None)\n",
    "pd.set_option('display.max_columns', None)\n",
    "pd.set_option('display.width', None)\n",
    "pd.set_option('display.max_colwidth', None)\n",
    "pd.set_option('display.precision', 4)"
   ]
  },
  {
   "cell_type": "markdown",
   "id": "37289cba",
   "metadata": {},
   "source": [
    "### Solve as MultiClass Problem - 11 classes. If rerun, go to the bottom and load the model and run"
   ]
  },
  {
   "cell_type": "markdown",
   "id": "d91eb794",
   "metadata": {},
   "source": [
    "#### Set up folders for modeling"
   ]
  },
  {
   "cell_type": "code",
   "execution_count": 106,
   "id": "06e3aa9c",
   "metadata": {},
   "outputs": [],
   "source": [
    "datafolder = '../data/manual-clusters/20220430/categorized/'\n",
    "\n",
    "newlabels = []\n",
    "\n",
    "for label in os.listdir(datafolder):\n",
    "    for image in os.listdir(datafolder + label):\n",
    "        newlabels.append({\n",
    "            'filename': datafolder + label + \"/\" + image,\n",
    "            'classname': label,\n",
    "            \n",
    "        })\n",
    "        \n",
    "newlabels = pd.DataFrame(newlabels)\n",
    "newlabels['class_id'] = newlabels['classname']\n",
    "newlabels.replace({\"class_id\":{\"01\":\"01\", \"02-round-end\":\"02\",\"03-mib\":\"03\",\"04\":\"04\",\"05-hole-flat\":\"05\",\n",
    "                               \"06\":\"06\",\"07-honeycomb\":\"07\",\"08\":\"08\",\"09\":\"09\",\"10-honeycombhollow\":\"10\",\n",
    "                               \"11-longthin\":\"11\"}}, inplace=True)\n",
    "\n",
    "# Set up image directory\n",
    "TRAIN_IMAGES_PATH = '../data/efNet_data/images/train'\n",
    "VAL_IMAGES_PATH = '../data/efNet_data/images/val'\n",
    "os.makedirs(TRAIN_IMAGES_PATH, exist_ok = True)\n",
    "os.makedirs(VAL_IMAGES_PATH, exist_ok = True)\n",
    "\n",
    "classes = set(newlabels['class_id'])\n",
    "# Create directories for each class.\n",
    "for class_id in classes:\n",
    "    os.makedirs(os.path.join(TRAIN_IMAGES_PATH, str(class_id)), exist_ok = True)\n",
    "    os.makedirs(os.path.join(VAL_IMAGES_PATH, str(class_id)), exist_ok = True)\n",
    "    \n",
    "def preproccess_data(df, images_path):\n",
    "    for column, row in df.iterrows():\n",
    "        class_id = row['class_id']\n",
    "        shutil.copy(row['filename'], os.path.join(images_path, str(class_id)))\n",
    "        \n",
    "#Split the dataset into 80% training and 20% validation\n",
    "df_train, df_valid = model_selection.train_test_split(newlabels, test_size=0.2, random_state=42, shuffle=True)\n",
    "#run the  function on each of them\n",
    "preproccess_data(df_train, TRAIN_IMAGES_PATH)\n",
    "preproccess_data(df_valid, VAL_IMAGES_PATH)"
   ]
  },
  {
   "cell_type": "markdown",
   "id": "0e6dbdc1",
   "metadata": {},
   "source": [
    "Dataset is pretty unbalanced"
   ]
  },
  {
   "cell_type": "code",
   "execution_count": 151,
   "id": "4f8ad0bb",
   "metadata": {},
   "outputs": [
    {
     "data": {
      "text/plain": [
       "04    417\n",
       "09    152\n",
       "06     68\n",
       "03     59\n",
       "02     57\n",
       "01     56\n",
       "10     50\n",
       "08     28\n",
       "07     19\n",
       "05     17\n",
       "11     10\n",
       "Name: class_id, dtype: int64"
      ]
     },
     "execution_count": 151,
     "metadata": {},
     "output_type": "execute_result"
    }
   ],
   "source": [
    "newlabels['class_id'].value_counts()"
   ]
  },
  {
   "cell_type": "markdown",
   "id": "f5d0f045",
   "metadata": {},
   "source": [
    "#### Data Augmentations"
   ]
  },
  {
   "cell_type": "code",
   "execution_count": 109,
   "id": "b03205c3",
   "metadata": {},
   "outputs": [],
   "source": [
    "input_shape = (224,224,3)\n",
    "conv_base = EfficientNetB0(weights=\"imagenet\", include_top=False, input_shape=input_shape)\n",
    "\n",
    "NUMBER_OF_CLASSES = 11\n",
    "\n",
    "model = models.Sequential()\n",
    "model.add(conv_base)\n",
    "model.add(layers.GlobalMaxPooling2D(name=\"gap\"))\n",
    "#avoid overfitting\n",
    "model.add(layers.Dropout(rate=0.2, name=\"dropout_out\"))\n",
    "# Set NUMBER_OF_CLASSES to the number of your final predictions.\n",
    "model.add(layers.Dense(NUMBER_OF_CLASSES, activation=\"softmax\", name=\"fc_out\"))\n",
    "#conv_base.trainable = False"
   ]
  },
  {
   "cell_type": "code",
   "execution_count": 110,
   "id": "3eeb2b2c",
   "metadata": {},
   "outputs": [
    {
     "name": "stdout",
     "output_type": "stream",
     "text": [
      "Found 746 images belonging to 11 classes.\n",
      "Found 187 images belonging to 11 classes.\n"
     ]
    }
   ],
   "source": [
    "height,width=224,224\n",
    "batch_size = 16\n",
    "\n",
    "train_datagen = ImageDataGenerator(\n",
    "    rescale=1.0 / 255,\n",
    "    rotation_range=45,\n",
    "    width_shift_range=0.1,\n",
    "    height_shift_range=0.1,\n",
    "    shear_range=0.2,\n",
    "    zoom_range=0.1,\n",
    "    horizontal_flip=True,\n",
    "    fill_mode=\"nearest\",\n",
    ")\n",
    "\n",
    "test_datagen = ImageDataGenerator(rescale=1.0 / 255)\n",
    "\n",
    "train_generator = train_datagen.flow_from_directory(\n",
    "    # This is the target directory\n",
    "    TRAIN_IMAGES_PATH,\n",
    "    # All images will be resized to target height and width.\n",
    "    target_size=(height, width),\n",
    "    batch_size=batch_size,\n",
    "    # Since we use categorical_crossentropy loss, we need categorical labels\n",
    "    class_mode=\"categorical\",\n",
    ")\n",
    "\n",
    "validation_generator = test_datagen.flow_from_directory(\n",
    "    VAL_IMAGES_PATH,\n",
    "    target_size=(height, width),\n",
    "    batch_size=batch_size,\n",
    "    class_mode=\"categorical\",\n",
    ")\n",
    "\n",
    "model.compile(\n",
    "    loss=\"categorical_crossentropy\",\n",
    "    optimizer=optimizers.RMSprop(learning_rate=2e-5),\n",
    "    metrics=[tf.keras.metrics.TopKCategoricalAccuracy(k=2), \"acc\"], #'acc'\n",
    ")"
   ]
  },
  {
   "cell_type": "markdown",
   "id": "f501d2b3",
   "metadata": {},
   "source": [
    "#### Model Training"
   ]
  },
  {
   "cell_type": "code",
   "execution_count": 111,
   "id": "0a395771",
   "metadata": {},
   "outputs": [
    {
     "name": "stdout",
     "output_type": "stream",
     "text": [
      "Epoch 1/10\n",
      "46/46 [==============================] - 157s 3s/step - loss: 5.8347 - top_k_categorical_accuracy: 0.3205 - acc: 0.2055 - val_loss: 5.0076 - val_top_k_categorical_accuracy: 0.2045 - val_acc: 0.1591\n",
      "Epoch 2/10\n",
      "46/46 [==============================] - 154s 3s/step - loss: 4.2613 - top_k_categorical_accuracy: 0.4603 - acc: 0.3082 - val_loss: 5.0486 - val_top_k_categorical_accuracy: 0.2045 - val_acc: 0.1534\n",
      "Epoch 3/10\n",
      "46/46 [==============================] - 134s 3s/step - loss: 4.0314 - top_k_categorical_accuracy: 0.4986 - acc: 0.3397 - val_loss: 4.2989 - val_top_k_categorical_accuracy: 0.1023 - val_acc: 0.0455\n",
      "Epoch 4/10\n",
      "46/46 [==============================] - 134s 3s/step - loss: 3.7357 - top_k_categorical_accuracy: 0.5192 - acc: 0.3603 - val_loss: 4.0741 - val_top_k_categorical_accuracy: 0.1989 - val_acc: 0.1250\n",
      "Epoch 5/10\n",
      "46/46 [==============================] - 131s 3s/step - loss: 3.5680 - top_k_categorical_accuracy: 0.5452 - acc: 0.3808 - val_loss: 5.4117 - val_top_k_categorical_accuracy: 0.1932 - val_acc: 0.0398\n",
      "Epoch 6/10\n",
      "46/46 [==============================] - 134s 3s/step - loss: 3.4467 - top_k_categorical_accuracy: 0.5370 - acc: 0.3726 - val_loss: 5.3507 - val_top_k_categorical_accuracy: 0.2159 - val_acc: 0.1591\n",
      "Epoch 7/10\n",
      "46/46 [==============================] - 132s 3s/step - loss: 3.3309 - top_k_categorical_accuracy: 0.5712 - acc: 0.4055 - val_loss: 5.4201 - val_top_k_categorical_accuracy: 0.1989 - val_acc: 0.1534\n",
      "Epoch 8/10\n",
      "46/46 [==============================] - 135s 3s/step - loss: 3.1550 - top_k_categorical_accuracy: 0.5548 - acc: 0.3685 - val_loss: 4.3135 - val_top_k_categorical_accuracy: 0.1591 - val_acc: 0.0909\n",
      "Epoch 9/10\n",
      "46/46 [==============================] - 143s 3s/step - loss: 2.9112 - top_k_categorical_accuracy: 0.5986 - acc: 0.4370 - val_loss: 2.6536 - val_top_k_categorical_accuracy: 0.4148 - val_acc: 0.1761\n",
      "Epoch 10/10\n",
      "46/46 [==============================] - 138s 3s/step - loss: 2.8768 - top_k_categorical_accuracy: 0.6014 - acc: 0.4137 - val_loss: 2.6445 - val_top_k_categorical_accuracy: 0.4432 - val_acc: 0.2159\n",
      "Wall time: 23min 13s\n"
     ]
    }
   ],
   "source": [
    "%%time\n",
    "NUMBER_OF_TRAINING_IMAGES = 746\n",
    "NUMBER_OF_VALIDATION_IMAGES = 187\n",
    "epochs = 10\n",
    "\n",
    "history = model.fit(\n",
    "    train_generator,\n",
    "    steps_per_epoch=NUMBER_OF_TRAINING_IMAGES // batch_size,\n",
    "    epochs=epochs,\n",
    "    validation_data=validation_generator,\n",
    "    validation_steps=NUMBER_OF_VALIDATION_IMAGES // batch_size,\n",
    "    verbose=1,\n",
    "    workers=8,\n",
    "    use_multiprocessing=False\n",
    ")"
   ]
  },
  {
   "cell_type": "markdown",
   "id": "117e77f8",
   "metadata": {},
   "source": [
    "#### For rerun, load the model and continue"
   ]
  },
  {
   "cell_type": "code",
   "execution_count": 150,
   "id": "66307032",
   "metadata": {},
   "outputs": [
    {
     "name": "stdout",
     "output_type": "stream",
     "text": [
      "INFO:tensorflow:Assets written to: ./efficientNet\\assets\n"
     ]
    }
   ],
   "source": [
    "#model.save('./efficientNet')\n",
    "#model = tf.keras.models.load_model(\"./efficientNet\")"
   ]
  },
  {
   "cell_type": "code",
   "execution_count": 112,
   "id": "b7fb2ff1",
   "metadata": {},
   "outputs": [],
   "source": [
    "y_pred = model.predict(validation_generator)\n",
    "y_pred_class = np.argmax(y_pred, axis=1)"
   ]
  },
  {
   "cell_type": "code",
   "execution_count": 149,
   "id": "26577eb1",
   "metadata": {},
   "outputs": [
    {
     "name": "stdout",
     "output_type": "stream",
     "text": [
      "Number of images per class\n",
      "04    417\n",
      "09    152\n",
      "06     68\n",
      "03     59\n",
      "02     57\n",
      "01     56\n",
      "10     50\n",
      "08     28\n",
      "07     19\n",
      "05     17\n",
      "11     10\n",
      "Name: class_id, dtype: int64\n"
     ]
    }
   ],
   "source": [
    "print(\"Number of images per class\")\n",
    "print(newlabels['class_id'].value_counts())"
   ]
  },
  {
   "cell_type": "code",
   "execution_count": 120,
   "id": "08650cd9",
   "metadata": {},
   "outputs": [
    {
     "name": "stdout",
     "output_type": "stream",
     "text": [
      "Classification Report\n",
      "              precision    recall  f1-score   support\n",
      "\n",
      "          01       0.00      0.00      0.00         9\n",
      "          02       0.00      0.00      0.00        16\n",
      "          03       0.00      0.00      0.00         8\n",
      "          04       0.49      0.32      0.39        84\n",
      "          05       0.00      0.00      0.00         8\n",
      "          06       0.00      0.00      0.00         6\n",
      "          07       0.00      0.00      0.00         4\n",
      "          08       0.00      0.00      0.00         5\n",
      "          09       0.17      0.53      0.26        30\n",
      "          10       0.00      0.00      0.00        14\n",
      "          11       0.00      0.00      0.00         3\n",
      "\n",
      "    accuracy                           0.23       187\n",
      "   macro avg       0.06      0.08      0.06       187\n",
      "weighted avg       0.25      0.23      0.22       187\n",
      "\n"
     ]
    }
   ],
   "source": [
    "print('Classification Report')\n",
    "target_names = [\"01\",\"02\",\"03\",\"04\",\"05\",\"06\",\"07\",\"08\",\"09\",\"10\",\"11\"]\n",
    "print(classification_report(validation_generator.classes, y_pred_class, target_names=target_names, zero_division=0))"
   ]
  },
  {
   "cell_type": "code",
   "execution_count": 117,
   "id": "cbcd3cf9",
   "metadata": {},
   "outputs": [
    {
     "data": {
      "image/png": "[encoded data removed]",
      "text/plain": [
       "<Figure size 432x288 with 2 Axes>"
      ]
     },
     "metadata": {
      "needs_background": "light"
     },
     "output_type": "display_data"
    }
   ],
   "source": [
    "cm = confusion_matrix(validation_generator.classes, y_pred_class)\n",
    "\n",
    "disp = ConfusionMatrixDisplay(confusion_matrix=cm, display_labels=target_names)\n",
    "\n",
    "disp.plot(cmap=plt.cm.Blues)\n",
    "plt.show()"
   ]
  },
  {
   "cell_type": "code",
   "execution_count": null,
   "id": "037e643b",
   "metadata": {},
   "outputs": [],
   "source": [
    "score = model.evaluate(validation_generator, verbose=1)"
   ]
  },
  {
   "cell_type": "code",
   "execution_count": 135,
   "id": "42a0ddda",
   "metadata": {},
   "outputs": [
    {
     "name": "stdout",
     "output_type": "stream",
     "text": [
      "Evaluate: top_k_categorical_accuracy: 43.85% acc: 21.39% \n"
     ]
    }
   ],
   "source": [
    "print(\"%s%s: %.2f%% %s: %.2f%% \" % (\"Evaluate: \",model.metrics_names[1], score[1]*100 ,model.metrics_names[2], score[2]*100))"
   ]
  }
 ],
 "metadata": {
  "kernelspec": {
   "display_name": "Python 3",
   "language": "python",
   "name": "python3"
  },
  "language_info": {
   "codemirror_mode": {
    "name": "ipython",
    "version": 3
   },
   "file_extension": ".py",
   "mimetype": "text/x-python",
   "name": "python",
   "nbconvert_exporter": "python",
   "pygments_lexer": "ipython3",
   "version": "3.8.8"
  }
 },
 "nbformat": 4,
 "nbformat_minor": 5
}
