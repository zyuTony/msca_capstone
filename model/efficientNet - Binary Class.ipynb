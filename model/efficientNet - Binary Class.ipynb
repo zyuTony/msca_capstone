{
 "cells": [
  {
   "cell_type": "code",
   "execution_count": 1,
   "id": "0a88560a",
   "metadata": {},
   "outputs": [],
   "source": [
    "from tensorflow.keras.applications import * #Efficient Net included here\n",
    "from tensorflow.keras import models\n",
    "from tensorflow.keras import layers\n",
    "from keras.preprocessing.image import ImageDataGenerator\n",
    "import os\n",
    "import shutil\n",
    "import pandas as pd\n",
    "from sklearn import model_selection\n",
    "from tqdm import tqdm\n",
    "from tensorflow.keras import optimizers\n",
    "import tensorflow as tf\n",
    "import numpy as np"
   ]
  },
  {
   "cell_type": "code",
   "execution_count": 2,
   "id": "2eea4e14",
   "metadata": {},
   "outputs": [],
   "source": [
    "pd.set_option('display.max_rows', None)\n",
    "pd.set_option('display.max_columns', None)\n",
    "pd.set_option('display.width', None)\n",
    "pd.set_option('display.max_colwidth', None)\n",
    "pd.set_option('display.precision', 4)"
   ]
  },
  {
   "cell_type": "markdown",
   "id": "92d5b201",
   "metadata": {},
   "source": [
    "### Solve as Binary Problem - 2 classes"
   ]
  },
  {
   "cell_type": "markdown",
   "id": "d91eb794",
   "metadata": {},
   "source": [
    "#### Get Dataframe that contain image-name, class-name, and class-id"
   ]
  },
  {
   "cell_type": "code",
   "execution_count": 3,
   "id": "9817c0ec",
   "metadata": {},
   "outputs": [],
   "source": [
    "datafolder = '../data/manual-clusters/20220430/categorized/'\n",
    "\n",
    "newlabels = []\n",
    "\n",
    "for label in os.listdir(datafolder):\n",
    "    for image in os.listdir(datafolder + label):\n",
    "        newlabels.append({\n",
    "            'filename': datafolder + label + \"/\" + image,\n",
    "            'classname': label,\n",
    "            \n",
    "        })\n",
    "        \n",
    "newlabels = pd.DataFrame(newlabels)\n",
    "newlabels['class_id'] = newlabels['classname']\n",
    "newlabels.replace({\"class_id\":{\"01\":0, \"02-round-end\":0,\"03-mib\":0,\"04\":1,\"05-hole-flat\":0,\n",
    "                               \"06\":0,\"07-honeycomb\":0,\"08\":0,\"09\":0,\"10-honeycombhollow\":0,\n",
    "                               \"11-longthin\":0}}, inplace=True)"
   ]
  },
  {
   "cell_type": "code",
   "execution_count": 4,
   "id": "f99e109b",
   "metadata": {},
   "outputs": [
    {
     "data": {
      "text/plain": [
       "0    516\n",
       "1    417\n",
       "Name: class_id, dtype: int64"
      ]
     },
     "execution_count": 4,
     "metadata": {},
     "output_type": "execute_result"
    }
   ],
   "source": [
    "newlabels['class_id'].value_counts()"
   ]
  },
  {
   "cell_type": "code",
   "execution_count": 5,
   "id": "06e3aa9c",
   "metadata": {},
   "outputs": [],
   "source": [
    "# Set up image directory\n",
    "TRAIN_IMAGES_PATH = '../data/efNet_data_binary/images/train'\n",
    "VAL_IMAGES_PATH = '../data/efNet_data_binary/images/val'\n",
    "os.makedirs(TRAIN_IMAGES_PATH, exist_ok = True)\n",
    "os.makedirs(VAL_IMAGES_PATH, exist_ok = True)\n",
    "\n",
    "classes = set(newlabels['class_id'])\n",
    "# Create directories for each class.\n",
    "for class_id in [x for x in range(len(classes))]:\n",
    "    os.makedirs(os.path.join(TRAIN_IMAGES_PATH, str(class_id)), exist_ok = True)\n",
    "    os.makedirs(os.path.join(VAL_IMAGES_PATH, str(class_id)), exist_ok = True)\n",
    "    \n",
    "def preproccess_data(df, images_path):\n",
    "    for column, row in df.iterrows():\n",
    "        class_id = row['class_id']\n",
    "        shutil.copy(row['filename'], os.path.join(images_path, str(class_id)))\n",
    "        \n",
    "#Split the dataset into 80% training and 20% validation\n",
    "df_train, df_valid = model_selection.train_test_split(newlabels, test_size=0.2, random_state=42, shuffle=True)\n",
    "#run the  function on each of them\n",
    "preproccess_data(df_train, TRAIN_IMAGES_PATH)\n",
    "preproccess_data(df_valid, VAL_IMAGES_PATH)"
   ]
  },
  {
   "cell_type": "markdown",
   "id": "f5d0f045",
   "metadata": {},
   "source": [
    "#### Data Augmentations"
   ]
  },
  {
   "cell_type": "code",
   "execution_count": 6,
   "id": "b03205c3",
   "metadata": {},
   "outputs": [],
   "source": [
    "input_shape = (224,224,3)\n",
    "conv_base = EfficientNetB0(weights=\"imagenet\", include_top=False, input_shape=input_shape)\n",
    "\n",
    "NUMBER_OF_CLASSES = 2\n",
    "\n",
    "model = models.Sequential()\n",
    "model.add(conv_base)\n",
    "model.add(layers.GlobalMaxPooling2D(name=\"gap\"))\n",
    "#avoid overfitting\n",
    "model.add(layers.Dropout(rate=0.2, name=\"dropout_out\"))\n",
    "# Set NUMBER_OF_CLASSES to the number of your final predictions.\n",
    "model.add(layers.Dense(NUMBER_OF_CLASSES, activation=\"softmax\", name=\"fc_out\"))\n",
    "#conv_base.trainable = False"
   ]
  },
  {
   "cell_type": "code",
   "execution_count": 7,
   "id": "3eeb2b2c",
   "metadata": {},
   "outputs": [
    {
     "name": "stdout",
     "output_type": "stream",
     "text": [
      "Found 746 images belonging to 2 classes.\n",
      "Found 187 images belonging to 2 classes.\n"
     ]
    }
   ],
   "source": [
    "height,width=224,224\n",
    "batch_size = 16\n",
    "\n",
    "train_datagen = ImageDataGenerator(\n",
    "    rescale=1.0 / 255,\n",
    "    rotation_range=45,\n",
    "    width_shift_range=0.1,\n",
    "    height_shift_range=0.1,\n",
    "    shear_range=0.2,\n",
    "    zoom_range=0.1,\n",
    "    horizontal_flip=True,\n",
    "    fill_mode=\"nearest\",\n",
    ")\n",
    "\n",
    "test_datagen = ImageDataGenerator(rescale=1.0 / 255)\n",
    "\n",
    "train_generator = train_datagen.flow_from_directory(\n",
    "    # This is the target directory\n",
    "    TRAIN_IMAGES_PATH,\n",
    "    # All images will be resized to target height and width.\n",
    "    target_size=(height, width),\n",
    "    batch_size=batch_size,\n",
    "    # Since we use categorical_crossentropy loss, we need categorical labels\n",
    "    class_mode=\"categorical\",\n",
    ")\n",
    "\n",
    "validation_generator = test_datagen.flow_from_directory(\n",
    "    VAL_IMAGES_PATH,\n",
    "    target_size=(height, width),\n",
    "    batch_size=batch_size,\n",
    "    class_mode=\"categorical\",\n",
    ")\n",
    "\n",
    "model.compile(\n",
    "    loss=\"categorical_crossentropy\",\n",
    "    optimizer=optimizers.RMSprop(learning_rate=2e-5),\n",
    "    metrics=[tf.keras.metrics.TopKCategoricalAccuracy(k=2), \"acc\"], #'acc'\n",
    ")"
   ]
  },
  {
   "cell_type": "code",
   "execution_count": 8,
   "id": "0a395771",
   "metadata": {},
   "outputs": [
    {
     "name": "stdout",
     "output_type": "stream",
     "text": [
      "Epoch 1/10\n",
      "46/46 [==============================] - 126s 3s/step - loss: 3.3916 - top_k_categorical_accuracy: 1.0000 - acc: 0.4822 - val_loss: 4.0937 - val_top_k_categorical_accuracy: 1.0000 - val_acc: 0.5455\n",
      "Epoch 2/10\n",
      "46/46 [==============================] - 126s 3s/step - loss: 1.8431 - top_k_categorical_accuracy: 1.0000 - acc: 0.5767 - val_loss: 4.2051 - val_top_k_categorical_accuracy: 1.0000 - val_acc: 0.5398\n",
      "Epoch 3/10\n",
      "46/46 [==============================] - 131s 3s/step - loss: 1.6812 - top_k_categorical_accuracy: 1.0000 - acc: 0.6329 - val_loss: 4.9732 - val_top_k_categorical_accuracy: 1.0000 - val_acc: 0.5568\n",
      "Epoch 4/10\n",
      "46/46 [==============================] - 132s 3s/step - loss: 1.6151 - top_k_categorical_accuracy: 1.0000 - acc: 0.6467 - val_loss: 4.0845 - val_top_k_categorical_accuracy: 1.0000 - val_acc: 0.5455\n",
      "Epoch 5/10\n",
      "46/46 [==============================] - 131s 3s/step - loss: 1.3800 - top_k_categorical_accuracy: 1.0000 - acc: 0.6699 - val_loss: 2.4924 - val_top_k_categorical_accuracy: 1.0000 - val_acc: 0.5398\n",
      "Epoch 6/10\n",
      "46/46 [==============================] - 129s 3s/step - loss: 1.3416 - top_k_categorical_accuracy: 1.0000 - acc: 0.6863 - val_loss: 2.0220 - val_top_k_categorical_accuracy: 1.0000 - val_acc: 0.5455\n",
      "Epoch 7/10\n",
      "46/46 [==============================] - 129s 3s/step - loss: 1.4571 - top_k_categorical_accuracy: 1.0000 - acc: 0.6384 - val_loss: 2.5297 - val_top_k_categorical_accuracy: 1.0000 - val_acc: 0.5170\n",
      "Epoch 8/10\n",
      "46/46 [==============================] - 127s 3s/step - loss: 1.2886 - top_k_categorical_accuracy: 1.0000 - acc: 0.6726 - val_loss: 2.3165 - val_top_k_categorical_accuracy: 1.0000 - val_acc: 0.5057\n",
      "Epoch 9/10\n",
      "46/46 [==============================] - 126s 3s/step - loss: 1.2594 - top_k_categorical_accuracy: 1.0000 - acc: 0.6904 - val_loss: 2.9454 - val_top_k_categorical_accuracy: 1.0000 - val_acc: 0.4886\n",
      "Epoch 10/10\n",
      "46/46 [==============================] - 125s 3s/step - loss: 1.3296 - top_k_categorical_accuracy: 1.0000 - acc: 0.6712 - val_loss: 2.6031 - val_top_k_categorical_accuracy: 1.0000 - val_acc: 0.4489\n",
      "Wall time: 21min 22s\n"
     ]
    }
   ],
   "source": [
    "%%time\n",
    "NUMBER_OF_TRAINING_IMAGES = 746\n",
    "NUMBER_OF_VALIDATION_IMAGES = 187\n",
    "epochs = 10\n",
    "\n",
    "history = model.fit(\n",
    "    train_generator,\n",
    "    steps_per_epoch=NUMBER_OF_TRAINING_IMAGES // batch_size,\n",
    "    epochs=epochs,\n",
    "    validation_data=validation_generator,\n",
    "    validation_steps=NUMBER_OF_VALIDATION_IMAGES // batch_size,\n",
    "    verbose=1,\n",
    "    workers=4,\n",
    "    use_multiprocessing=False\n",
    ")"
   ]
  },
  {
   "cell_type": "code",
   "execution_count": 9,
   "id": "b6d378f7",
   "metadata": {},
   "outputs": [
    {
     "name": "stdout",
     "output_type": "stream",
     "text": [
      "INFO:tensorflow:Assets written to: ./efficientNet_binary\\assets\n"
     ]
    }
   ],
   "source": [
    "model.save('./efficientNet_binary')"
   ]
  },
  {
   "cell_type": "code",
   "execution_count": 10,
   "id": "e992402e",
   "metadata": {},
   "outputs": [],
   "source": [
    "y_pred = model.predict(validation_generator)"
   ]
  },
  {
   "cell_type": "code",
   "execution_count": 11,
   "id": "63010091",
   "metadata": {},
   "outputs": [],
   "source": [
    "y_pred_class = np.argmax(y_pred, axis=1)"
   ]
  },
  {
   "cell_type": "code",
   "execution_count": 19,
   "id": "4ff5c0fd",
   "metadata": {},
   "outputs": [
    {
     "data": {
      "text/plain": [
       "Counter({0: 103, 1: 84})"
      ]
     },
     "execution_count": 19,
     "metadata": {},
     "output_type": "execute_result"
    }
   ],
   "source": [
    "import collections\n",
    "from sklearn.metrics import classification_report, confusion_matrix\n",
    "from sklearn.metrics import ConfusionMatrixDisplay\n",
    "import matplotlib.pyplot as plt\n",
    "collections.Counter(validation_generator.classes)"
   ]
  },
  {
   "cell_type": "code",
   "execution_count": 16,
   "id": "99acbf48",
   "metadata": {},
   "outputs": [
    {
     "name": "stdout",
     "output_type": "stream",
     "text": [
      "Classification Report\n",
      "              precision    recall  f1-score   support\n",
      "\n",
      "           0       0.56      0.83      0.66       103\n",
      "           1       0.47      0.19      0.27        84\n",
      "\n",
      "    accuracy                           0.54       187\n",
      "   macro avg       0.51      0.51      0.47       187\n",
      "weighted avg       0.52      0.54      0.49       187\n",
      "\n"
     ]
    }
   ],
   "source": [
    "\n",
    "print('Classification Report')\n",
    "target_names = [\"0\",\"1\"]\n",
    "print(classification_report(validation_generator.classes, y_pred_class, target_names=target_names, zero_division=0))"
   ]
  },
  {
   "cell_type": "code",
   "execution_count": 20,
   "id": "1d30214f",
   "metadata": {},
   "outputs": [
    {
     "data": {
      "image/png": "[encoded data removed]",
      "text/plain": [
       "<Figure size 432x288 with 2 Axes>"
      ]
     },
     "metadata": {
      "needs_background": "light"
     },
     "output_type": "display_data"
    }
   ],
   "source": [
    "cm = confusion_matrix(validation_generator.classes, y_pred_class)\n",
    "\n",
    "disp = ConfusionMatrixDisplay(confusion_matrix=cm, display_labels=target_names)\n",
    "\n",
    "disp.plot(cmap=plt.cm.Blues)\n",
    "plt.show()"
   ]
  },
  {
   "cell_type": "code",
   "execution_count": 14,
   "id": "42a0ddda",
   "metadata": {},
   "outputs": [
    {
     "name": "stdout",
     "output_type": "stream",
     "text": [
      "12/12 [==============================] - 6s 492ms/step - loss: 2.5646 - top_k_categorical_accuracy: 0.5455 - acc: 0.4064\n",
      "evaluate top_k_categorical_accuracy: 54.55%\n"
     ]
    }
   ],
   "source": [
    "score = model.evaluate(validation_generator, verbose=1)\n",
    "print(\"%s%s: %.2f%%\" % (\"evaluate \",model.metrics_names[1], score[1]*100))"
   ]
  }
 ],
 "metadata": {
  "kernelspec": {
   "display_name": "Python 3",
   "language": "python",
   "name": "python3"
  },
  "language_info": {
   "codemirror_mode": {
    "name": "ipython",
    "version": 3
   },
   "file_extension": ".py",
   "mimetype": "text/x-python",
   "name": "python",
   "nbconvert_exporter": "python",
   "pygments_lexer": "ipython3",
   "version": "3.8.8"
  }
 },
 "nbformat": 4,
 "nbformat_minor": 5
}
